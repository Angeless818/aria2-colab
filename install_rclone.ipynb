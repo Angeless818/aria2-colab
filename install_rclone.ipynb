{
  "nbformat": 4,
  "nbformat_minor": 0,
  "metadata": {
    "colab": {
      "name": "install_rclone.ipynb",
      "provenance": [],
      "collapsed_sections": []
    },
    "kernelspec": {
      "name": "python3",
      "display_name": "Python 3"
    }
  },
  "cells": [
    {
      "cell_type": "code",
      "metadata": {
        "id": "FTOost7bI1wu",
        "colab_type": "code",
        "colab": {}
      },
      "source": [
        "# 安裝 Rclone\n",
        "!#curl https://rclone.org/install.sh | sudo bash"
      ],
      "execution_count": null,
      "outputs": []
    },
    {
      "cell_type": "code",
      "metadata": {
        "id": "jg4GpWzBJKkQ",
        "colab_type": "code",
        "colab": {}
      },
      "source": [
        "# 建立remote\n",
        "!rclone config"
      ],
      "execution_count": null,
      "outputs": []
    },
    {
      "cell_type": "code",
      "metadata": {
        "id": "58CByol8JX8Q",
        "colab_type": "code",
        "colab": {}
      },
      "source": [
        "# 顯示 config檔\n",
        "!rclone config show"
      ],
      "execution_count": null,
      "outputs": []
    }
  ]
}